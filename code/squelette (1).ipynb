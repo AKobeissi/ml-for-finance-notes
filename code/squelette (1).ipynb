{
 "cells": [
  {
   "cell_type": "markdown",
   "id": "34e89555",
   "metadata": {
    "papermill": {
     "duration": 0.007336,
     "end_time": "2023-11-04T05:39:03.852529",
     "exception": false,
     "start_time": "2023-11-04T05:39:03.845193",
     "status": "completed"
    },
    "tags": []
   },
   "source": [
    "# Mise en situation\n",
    "\n",
    "Vous êtes une jeune équipe de diplômés et vous voulez créer votre propre entreprise de fintech. Vous savez que la compagnie Crystal Dawn Private Qants essaie depuis des années de développer une stratégie de gestion de portefeuille efficace. \n",
    "\n",
    "Malheureusement une épidémie de *Lukehead Byus* a frappé leurs analystes avant qu'ils puissent livrer leur solution. Forts de cette information, vous ne laissez pas passer cette opportunité de leur vendre votre propre stratégie.\n",
    "\n",
    "Votre espion qui évolue au sein de Crystal Dawn et qui a miraculeusement échappé à l'épidémie a réussi à vous obtenir un entretien vendredi prochain. \n",
    "\n",
    "Il vous fournit les exigeances de la compagnie qui doivent impérativement être respectées sans quoi vous n'aurez aucune chance de décrocher le contrat:\n",
    "\n",
    "- Le portefeuille doit être **long-only** et toujours comporter au moins 120 titres - $\\sum (w_i\\geq.0000001) \\geq 120$.\n",
    "- Vous ne pouvez investir que dans les 303 titres représentatifs du S&P 500 fournis avec le présent notebook.\n",
    "- La stratégie doit être 'aveugle', il est interdit d'utiliser de l'information implicite liée au futur lorsque vous roulez votre stratégie sur les données historiques. (Vous risquez d'attraper le *Luckehead Byus*.)\n",
    "- Vous pouvez rebalancer votre portefeuille chaque jour.\n",
    "\n",
    "La compagnie à qui vous essayez de vendre votre stratégie va tenir des mini conférences le samedi matin ainsi que le dimanche. Assurez-vous d'y être pour récolter des informations supplémentaires sur ce à quoi elle sera attentive lors de votre présentation.\n",
    "\n",
    "Note: *Se retirer complètement pendant une période est autorisé ($\\sum w_i=0$) si le signal de retrait est produit algorithmiquement et non la conséquence d'une décision arbitraire, gare au Luckehead Byus !*"
   ]
  },
  {
   "cell_type": "markdown",
   "id": "61c81f8b",
   "metadata": {
    "papermill": {
     "duration": 0.006387,
     "end_time": "2023-11-04T05:39:03.865747",
     "exception": false,
     "start_time": "2023-11-04T05:39:03.859360",
     "status": "completed"
    },
    "tags": []
   },
   "source": [
    "## Livrables\n",
    "Pour passer l'entretien préliminaire vous devez fournir:\n",
    "- Un notebook écrit en Python ou R fonctionnel avec certaines cellules de code obligatoires.\n",
    "- Un fichier submission.csv contenant la pondération de votre portefeuille (le montant investi dans chaque titre) sur l'intervalle 2000-2015 avec un format correspondant au fichier `sample_submission.csv` \n",
    "\n",
    "Si vous passez l'entretien préliminaire, vous devrez préparer un rapide pitch de 6 minutes pour convaincre votre client potentiel de la qualité de votre stratégie. Crystal Dawn Private Quants vous demande d'absolument présenter votre stratégie en respectant le format suivant:\n",
    "\n",
    "- Diapo 1: intuition, processus méthodologique (données, efforts pour ne pas overfitter, contraintes d'optimisation et fonction objectif)\n",
    "- Diapo 2: tableau synthèse des différentes métriques, courbes de valeur ajoutée, pires rabattement, allocation sectorielle\n",
    "- Diapo 3: calendrier de performance en valeur ajoutée\n",
    "- Diapo 4: vue récente du portefeuille (nombre de titre, overweight,underweight…)\n",
    "\n",
    "Vous saurez mardi soir si vous avez passé cet entretien préliminaire et êtes sélectionnés pour l'entretien final."
   ]
  },
  {
   "cell_type": "code",
   "execution_count": 1,
   "id": "8873cc31",
   "metadata": {
    "execution": {
     "iopub.execute_input": "2023-11-04T05:39:03.880756Z",
     "iopub.status.busy": "2023-11-04T05:39:03.880252Z",
     "iopub.status.idle": "2023-11-04T05:39:03.886362Z",
     "shell.execute_reply": "2023-11-04T05:39:03.884770Z"
    },
    "papermill": {
     "duration": 0.016599,
     "end_time": "2023-11-04T05:39:03.888760",
     "exception": false,
     "start_time": "2023-11-04T05:39:03.872161",
     "status": "completed"
    },
    "tags": []
   },
   "outputs": [],
   "source": [
    "#!pip install pandas seaborn matplotlib numpy statsmodels scikit-learn tqdm\n"
   ]
  },
  {
   "cell_type": "code",
   "execution_count": 2,
   "id": "2601b978",
   "metadata": {
    "execution": {
     "iopub.execute_input": "2023-11-04T05:39:03.904604Z",
     "iopub.status.busy": "2023-11-04T05:39:03.903745Z",
     "iopub.status.idle": "2023-11-04T05:39:05.399334Z",
     "shell.execute_reply": "2023-11-04T05:39:05.397909Z"
    },
    "papermill": {
     "duration": 1.50646,
     "end_time": "2023-11-04T05:39:05.402086",
     "exception": false,
     "start_time": "2023-11-04T05:39:03.895626",
     "status": "completed"
    },
    "tags": []
   },
   "outputs": [],
   "source": [
    "import pandas as pd \n",
    "import numpy as np \n",
    "import sklearn as sk\n",
    "import matplotlib.pyplot as plt\n",
    "from tqdm import tqdm\n"
   ]
  },
  {
   "cell_type": "markdown",
   "id": "2fcf5190",
   "metadata": {
    "papermill": {
     "duration": 0.006718,
     "end_time": "2023-11-04T05:39:05.415665",
     "exception": false,
     "start_time": "2023-11-04T05:39:05.408947",
     "status": "completed"
    },
    "tags": []
   },
   "source": [
    "## Loading data"
   ]
  },
  {
   "cell_type": "code",
   "execution_count": 3,
   "id": "4514cc01",
   "metadata": {
    "execution": {
     "iopub.execute_input": "2023-11-04T05:39:05.431555Z",
     "iopub.status.busy": "2023-11-04T05:39:05.430124Z",
     "iopub.status.idle": "2023-11-04T05:39:05.436040Z",
     "shell.execute_reply": "2023-11-04T05:39:05.434764Z"
    },
    "papermill": {
     "duration": 0.016532,
     "end_time": "2023-11-04T05:39:05.438694",
     "exception": false,
     "start_time": "2023-11-04T05:39:05.422162",
     "status": "completed"
    },
    "tags": []
   },
   "outputs": [],
   "source": [
    "ROOT='/kaggle/input/polyfinances-datathon-2023/'\n"
   ]
  },
  {
   "cell_type": "code",
   "execution_count": 4,
   "id": "fbfd6699",
   "metadata": {
    "execution": {
     "iopub.execute_input": "2023-11-04T05:39:05.454033Z",
     "iopub.status.busy": "2023-11-04T05:39:05.453687Z",
     "iopub.status.idle": "2023-11-04T05:39:06.145036Z",
     "shell.execute_reply": "2023-11-04T05:39:06.143813Z"
    },
    "papermill": {
     "duration": 0.701559,
     "end_time": "2023-11-04T05:39:06.147244",
     "exception": false,
     "start_time": "2023-11-04T05:39:05.445685",
     "status": "completed"
    },
    "tags": []
   },
   "outputs": [
    {
     "data": {
      "text/html": [
       "<div>\n",
       "<style scoped>\n",
       "    .dataframe tbody tr th:only-of-type {\n",
       "        vertical-align: middle;\n",
       "    }\n",
       "\n",
       "    .dataframe tbody tr th {\n",
       "        vertical-align: top;\n",
       "    }\n",
       "\n",
       "    .dataframe thead th {\n",
       "        text-align: right;\n",
       "    }\n",
       "</style>\n",
       "<table border=\"1\" class=\"dataframe\">\n",
       "  <thead>\n",
       "    <tr style=\"text-align: right;\">\n",
       "      <th></th>\n",
       "      <th>adjusted_close_CSCO</th>\n",
       "      <th>adjusted_close_ISRG</th>\n",
       "      <th>adjusted_close_TPR</th>\n",
       "      <th>adjusted_close_DVN</th>\n",
       "      <th>adjusted_close_MRO</th>\n",
       "      <th>adjusted_close_BA</th>\n",
       "      <th>adjusted_close_GILD</th>\n",
       "      <th>adjusted_close_MDT</th>\n",
       "      <th>adjusted_close_V</th>\n",
       "      <th>adjusted_close_A</th>\n",
       "      <th>...</th>\n",
       "      <th>adjusted_close_CI</th>\n",
       "      <th>adjusted_close_BALL</th>\n",
       "      <th>adjusted_close_JNJ</th>\n",
       "      <th>adjusted_close_DOV</th>\n",
       "      <th>adjusted_close_CRM</th>\n",
       "      <th>adjusted_close_PGR</th>\n",
       "      <th>adjusted_close_WAT</th>\n",
       "      <th>adjusted_close_BWA</th>\n",
       "      <th>adjusted_close_BLK</th>\n",
       "      <th>adjusted_close_PPL</th>\n",
       "    </tr>\n",
       "    <tr>\n",
       "      <th>timestamp</th>\n",
       "      <th></th>\n",
       "      <th></th>\n",
       "      <th></th>\n",
       "      <th></th>\n",
       "      <th></th>\n",
       "      <th></th>\n",
       "      <th></th>\n",
       "      <th></th>\n",
       "      <th></th>\n",
       "      <th></th>\n",
       "      <th></th>\n",
       "      <th></th>\n",
       "      <th></th>\n",
       "      <th></th>\n",
       "      <th></th>\n",
       "      <th></th>\n",
       "      <th></th>\n",
       "      <th></th>\n",
       "      <th></th>\n",
       "      <th></th>\n",
       "      <th></th>\n",
       "    </tr>\n",
       "  </thead>\n",
       "  <tbody>\n",
       "    <tr>\n",
       "      <th>2023-10-06</th>\n",
       "      <td>53.450000</td>\n",
       "      <td>295.68</td>\n",
       "      <td>28.19</td>\n",
       "      <td>43.70</td>\n",
       "      <td>24.59</td>\n",
       "      <td>187.38</td>\n",
       "      <td>74.74</td>\n",
       "      <td>76.12</td>\n",
       "      <td>235.04</td>\n",
       "      <td>110.64</td>\n",
       "      <td>...</td>\n",
       "      <td>288.23</td>\n",
       "      <td>46.13</td>\n",
       "      <td>157.64</td>\n",
       "      <td>138.89</td>\n",
       "      <td>207.36</td>\n",
       "      <td>142.860000</td>\n",
       "      <td>267.40</td>\n",
       "      <td>39.88</td>\n",
       "      <td>648.26</td>\n",
       "      <td>23.44</td>\n",
       "    </tr>\n",
       "    <tr>\n",
       "      <th>2023-10-05</th>\n",
       "      <td>53.070000</td>\n",
       "      <td>290.09</td>\n",
       "      <td>27.58</td>\n",
       "      <td>42.85</td>\n",
       "      <td>24.24</td>\n",
       "      <td>186.29</td>\n",
       "      <td>74.70</td>\n",
       "      <td>76.15</td>\n",
       "      <td>233.48</td>\n",
       "      <td>110.35</td>\n",
       "      <td>...</td>\n",
       "      <td>285.35</td>\n",
       "      <td>47.72</td>\n",
       "      <td>157.14</td>\n",
       "      <td>138.31</td>\n",
       "      <td>202.01</td>\n",
       "      <td>142.500000</td>\n",
       "      <td>265.99</td>\n",
       "      <td>38.66</td>\n",
       "      <td>640.30</td>\n",
       "      <td>22.96</td>\n",
       "    </tr>\n",
       "    <tr>\n",
       "      <th>2023-10-04</th>\n",
       "      <td>53.450000</td>\n",
       "      <td>290.28</td>\n",
       "      <td>27.84</td>\n",
       "      <td>43.35</td>\n",
       "      <td>24.40</td>\n",
       "      <td>186.73</td>\n",
       "      <td>74.74</td>\n",
       "      <td>76.27</td>\n",
       "      <td>231.22</td>\n",
       "      <td>111.67</td>\n",
       "      <td>...</td>\n",
       "      <td>285.08</td>\n",
       "      <td>49.27</td>\n",
       "      <td>155.52</td>\n",
       "      <td>137.92</td>\n",
       "      <td>201.87</td>\n",
       "      <td>142.160000</td>\n",
       "      <td>267.76</td>\n",
       "      <td>39.22</td>\n",
       "      <td>636.53</td>\n",
       "      <td>22.91</td>\n",
       "    </tr>\n",
       "    <tr>\n",
       "      <th>2023-10-03</th>\n",
       "      <td>53.650000</td>\n",
       "      <td>288.04</td>\n",
       "      <td>27.95</td>\n",
       "      <td>45.75</td>\n",
       "      <td>25.68</td>\n",
       "      <td>188.92</td>\n",
       "      <td>73.27</td>\n",
       "      <td>76.54</td>\n",
       "      <td>228.81</td>\n",
       "      <td>110.26</td>\n",
       "      <td>...</td>\n",
       "      <td>284.41</td>\n",
       "      <td>48.73</td>\n",
       "      <td>155.34</td>\n",
       "      <td>137.78</td>\n",
       "      <td>199.83</td>\n",
       "      <td>139.302010</td>\n",
       "      <td>265.01</td>\n",
       "      <td>38.87</td>\n",
       "      <td>625.47</td>\n",
       "      <td>22.98</td>\n",
       "    </tr>\n",
       "    <tr>\n",
       "      <th>2023-10-02</th>\n",
       "      <td>53.997474</td>\n",
       "      <td>294.98</td>\n",
       "      <td>28.58</td>\n",
       "      <td>45.65</td>\n",
       "      <td>25.59</td>\n",
       "      <td>187.83</td>\n",
       "      <td>74.10</td>\n",
       "      <td>77.77</td>\n",
       "      <td>231.27</td>\n",
       "      <td>110.90</td>\n",
       "      <td>...</td>\n",
       "      <td>287.54</td>\n",
       "      <td>49.26</td>\n",
       "      <td>155.15</td>\n",
       "      <td>137.68</td>\n",
       "      <td>203.71</td>\n",
       "      <td>138.872313</td>\n",
       "      <td>270.52</td>\n",
       "      <td>39.86</td>\n",
       "      <td>643.04</td>\n",
       "      <td>22.55</td>\n",
       "    </tr>\n",
       "  </tbody>\n",
       "</table>\n",
       "<p>5 rows × 303 columns</p>\n",
       "</div>"
      ],
      "text/plain": [
       "            adjusted_close_CSCO  adjusted_close_ISRG  adjusted_close_TPR  \\\n",
       "timestamp                                                                  \n",
       "2023-10-06            53.450000               295.68               28.19   \n",
       "2023-10-05            53.070000               290.09               27.58   \n",
       "2023-10-04            53.450000               290.28               27.84   \n",
       "2023-10-03            53.650000               288.04               27.95   \n",
       "2023-10-02            53.997474               294.98               28.58   \n",
       "\n",
       "            adjusted_close_DVN  adjusted_close_MRO  adjusted_close_BA  \\\n",
       "timestamp                                                               \n",
       "2023-10-06               43.70               24.59             187.38   \n",
       "2023-10-05               42.85               24.24             186.29   \n",
       "2023-10-04               43.35               24.40             186.73   \n",
       "2023-10-03               45.75               25.68             188.92   \n",
       "2023-10-02               45.65               25.59             187.83   \n",
       "\n",
       "            adjusted_close_GILD  adjusted_close_MDT  adjusted_close_V  \\\n",
       "timestamp                                                               \n",
       "2023-10-06                74.74               76.12            235.04   \n",
       "2023-10-05                74.70               76.15            233.48   \n",
       "2023-10-04                74.74               76.27            231.22   \n",
       "2023-10-03                73.27               76.54            228.81   \n",
       "2023-10-02                74.10               77.77            231.27   \n",
       "\n",
       "            adjusted_close_A  ...  adjusted_close_CI  adjusted_close_BALL  \\\n",
       "timestamp                     ...                                           \n",
       "2023-10-06            110.64  ...             288.23                46.13   \n",
       "2023-10-05            110.35  ...             285.35                47.72   \n",
       "2023-10-04            111.67  ...             285.08                49.27   \n",
       "2023-10-03            110.26  ...             284.41                48.73   \n",
       "2023-10-02            110.90  ...             287.54                49.26   \n",
       "\n",
       "            adjusted_close_JNJ  adjusted_close_DOV  adjusted_close_CRM  \\\n",
       "timestamp                                                                \n",
       "2023-10-06              157.64              138.89              207.36   \n",
       "2023-10-05              157.14              138.31              202.01   \n",
       "2023-10-04              155.52              137.92              201.87   \n",
       "2023-10-03              155.34              137.78              199.83   \n",
       "2023-10-02              155.15              137.68              203.71   \n",
       "\n",
       "            adjusted_close_PGR  adjusted_close_WAT  adjusted_close_BWA  \\\n",
       "timestamp                                                                \n",
       "2023-10-06          142.860000              267.40               39.88   \n",
       "2023-10-05          142.500000              265.99               38.66   \n",
       "2023-10-04          142.160000              267.76               39.22   \n",
       "2023-10-03          139.302010              265.01               38.87   \n",
       "2023-10-02          138.872313              270.52               39.86   \n",
       "\n",
       "            adjusted_close_BLK  adjusted_close_PPL  \n",
       "timestamp                                           \n",
       "2023-10-06              648.26               23.44  \n",
       "2023-10-05              640.30               22.96  \n",
       "2023-10-04              636.53               22.91  \n",
       "2023-10-03              625.47               22.98  \n",
       "2023-10-02              643.04               22.55  \n",
       "\n",
       "[5 rows x 303 columns]"
      ]
     },
     "execution_count": 4,
     "metadata": {},
     "output_type": "execute_result"
    }
   ],
   "source": [
    "adjusted_close = pd.read_csv(ROOT+'series/adjusted_close.csv',index_col=0)\n",
    "adjusted_close.index = pd.to_datetime(adjusted_close.index)\n",
    "# Uncomment the following line to test the notebook on a reduced number of \n",
    "# products that span the entire makespan\n",
    "# adjusted_close = adjusted_close.dropna(axis=1).iloc[:,:20]\n",
    "\n",
    "adjusted_close.head()\n"
   ]
  },
  {
   "cell_type": "markdown",
   "id": "7aaeadf8",
   "metadata": {
    "papermill": {
     "duration": 0.007023,
     "end_time": "2023-11-04T05:39:06.161562",
     "exception": false,
     "start_time": "2023-11-04T05:39:06.154539",
     "status": "completed"
    },
    "tags": []
   },
   "source": [
    "## Pondération du portefeuille\n",
    "Entrez ici les fonctions que vous utiliserez pour générer les poids de votre portefeuille sur base d'indicateurs tirés des données historiques ou produits avec des méthodes statistiques et/ou d'apprentissage machine.\n",
    "\n",
    "**Assurez vous que la relation $\\sum_{i=1}^{i=302}w_i=1$ est toujours respectée.**\n",
    "\n",
    "**Prenez gare aux NaNs présents dans le dataset, ils correspondent à des moments ou certains produits ne soit plus soit pas encore disponibles**\n",
    "\n",
    "Les méthodes que vous voyez ici ne sont pas valides pour la soumission finale:\n",
    " - `rand_weights`: sélectionne aléatoirement 5 titres et génère des poids aléatoires.\n",
    " - `best_return_fibo`: sélectionne les 10 meilleurs titres en fonction d'une prédiction sur leur rendement et leur assigne des poids proportionnels aux 10 premiers termes de la suite de Fibonacci.\n",
    " - `equal_weights`: produit un portefeuille balancé de manière uniforme, reproduit le benchmark"
   ]
  },
  {
   "cell_type": "code",
   "execution_count": 5,
   "id": "368ed81e",
   "metadata": {
    "execution": {
     "iopub.execute_input": "2023-11-04T05:39:06.177673Z",
     "iopub.status.busy": "2023-11-04T05:39:06.177241Z",
     "iopub.status.idle": "2023-11-04T05:39:06.190580Z",
     "shell.execute_reply": "2023-11-04T05:39:06.189034Z"
    },
    "papermill": {
     "duration": 0.024527,
     "end_time": "2023-11-04T05:39:06.193278",
     "exception": false,
     "start_time": "2023-11-04T05:39:06.168751",
     "status": "completed"
    },
    "tags": []
   },
   "outputs": [],
   "source": [
    "def rand_weights(returns,*args,**kwargs):\n",
    "    \"\"\"\n",
    "        Produces random weights for num_to_select assets \n",
    "    \"\"\"\n",
    "    # The following array will be True for all products i that are available\n",
    "    product_availability_mask = ~returns.iloc[-1].isna().values\n",
    "    \n",
    "    # The following array will contain all the indices i of available products\n",
    "    available_product_indices = np.nonzero(product_availability_mask)[0]\n",
    "    \n",
    "    weights = np.zeros(len(returns.T))\n",
    "    num_to_select = 125\n",
    "    \n",
    "    # Generate unique random indices within the array size\n",
    "    random_indices = np.random.choice(available_product_indices, num_to_select, replace=False)\n",
    "\n",
    "    # Create a boolean mask based on the randomly selected indices\n",
    "    mask = np.zeros(len(weights), dtype=bool)\n",
    "    mask[random_indices] = True\n",
    "    rw = np.random.rand(sum(mask))\n",
    "    rw /= sum(rw)\n",
    "    weights[mask]=rw\n",
    "    return pd.Series({\"weight_\"+a.split('_')[-1]:b for a,b in zip(returns.columns,weights)})\n",
    "\n",
    "def best_returns_fibo(returns,*args,**kwargs):\n",
    "    \"\"\" \n",
    "        Selects the 10 best returns and assigns weights according to a fibonacci ratio \n",
    "    \"\"\"\n",
    "    weights = np.zeros(len(returns.T))\n",
    "\n",
    "    # Select the indices of the 10 best stocks\n",
    "    indices=np.argsort(returns.iloc[-1].values)[::-1]\n",
    "    indices=indices[~np.isnan(returns.values[0][indices])][:10]\n",
    "\n",
    "    # Generate weights according to a fibonacci sequence\n",
    "    fibo = np.array([1, 1, 2, 3, 5, 8, 13, 21, 34, 55])[::-1].astype(float)\n",
    "    fibo /= sum(fibo)\n",
    "\n",
    "    # Create a boolean mask based on the randomly selected indices\n",
    "    mask = np.zeros(len(weights), dtype=bool)\n",
    "    mask[indices] = True\n",
    "    \n",
    "    weights[mask]=fibo\n",
    "    return pd.Series({\"weight_\"+a.split('_')[-1]:b for a,b in zip(returns.columns,weights)})\n",
    "\n",
    "def equal_weights(returns,*args,**kwargs):\n",
    "    \"\"\"\n",
    "        Produces an equally weighted portfolio\n",
    "        this is how the benchmark is generated\n",
    "    \"\"\"\n",
    "    weights = np.zeros(len(returns.T))\n",
    "    indices = np.arange(len(weights))[~np.isnan(returns.values[0])]\n",
    "    weights[indices] = 1/len(indices)\n",
    "    return pd.Series({\"weight_\"+a.split('_')[-1]:b for a,b in zip(returns.columns,weights)})\n",
    "    "
   ]
  },
  {
   "cell_type": "markdown",
   "id": "774b3e0d",
   "metadata": {
    "papermill": {
     "duration": 0.006843,
     "end_time": "2023-11-04T05:39:06.207455",
     "exception": false,
     "start_time": "2023-11-04T05:39:06.200612",
     "status": "completed"
    },
    "tags": []
   },
   "source": [
    "## Modèle prédictif\n",
    "Programmez ici vos modèles prédictifs et analytiques qui vous permettront de choisir la meilleure pondération possible étant donnée les données antérieures au moment du rebalancement.\n",
    "\n",
    "C'est ici qu'il faut faire attention à ne pas attraper le *Lukehead Byus*, vous prenez de gros risques si les arguments de vos fonctions prennent en compte des données postérieures au moment du rebalancement ('savoir' à priori qu'AAPL va bien performer constitue une donnée postérieure). \n",
    "\n",
    "Le modèle actuel est très simpliste:\n",
    "- `polynomial_regression`: effectue une simple régression avec un polynome du 3e degré pour essayer de prédire le rendement que fera chaque titre le lendemain."
   ]
  },
  {
   "cell_type": "code",
   "execution_count": 6,
   "id": "e131ded2",
   "metadata": {
    "execution": {
     "iopub.execute_input": "2023-11-04T05:39:06.223195Z",
     "iopub.status.busy": "2023-11-04T05:39:06.222846Z",
     "iopub.status.idle": "2023-11-04T05:39:07.937030Z",
     "shell.execute_reply": "2023-11-04T05:39:07.936300Z"
    },
    "papermill": {
     "duration": 1.724991,
     "end_time": "2023-11-04T05:39:07.939373",
     "exception": false,
     "start_time": "2023-11-04T05:39:06.214382",
     "status": "completed"
    },
    "tags": []
   },
   "outputs": [],
   "source": [
    "import statsmodels.api as sm\n",
    "from sklearn.preprocessing import PolynomialFeatures\n",
    "\n",
    "def polynomial_regression(past_prices):\n",
    "    \"\"\"\n",
    "        Fits a 3d degree polynomial for each asset and returns the predicted value\n",
    "    \"\"\"\n",
    "\n",
    "    models={}\n",
    "\n",
    "    # Fitting a 3d degree polynomial for each asset\n",
    "    for c in past_prices.columns:\n",
    "        x=past_prices[[c]]\n",
    "        xp = PolynomialFeatures(degree=3).fit_transform(np.arange(len(x)).reshape((len(x),1)))\n",
    "        model = sm.OLS(x.values, xp).fit()\n",
    "        models[c] = model\n",
    "\n",
    "    # Returning the expected return for the next timestep for all stocks\n",
    "    return pd.DataFrame({k:v.predict(PolynomialFeatures(degree=3).fit_transform(np.array([len(x)]).reshape((1,1)))) for k,v in models.items()})/past_prices.iloc[-1]\n"
   ]
  },
  {
   "cell_type": "markdown",
   "id": "8495e16a",
   "metadata": {
    "papermill": {
     "duration": 0.008302,
     "end_time": "2023-11-04T05:39:07.956727",
     "exception": false,
     "start_time": "2023-11-04T05:39:07.948425",
     "status": "completed"
    },
    "tags": []
   },
   "source": [
    "## Rebalancement journalier"
   ]
  },
  {
   "cell_type": "markdown",
   "id": "b1f9facd",
   "metadata": {
    "papermill": {
     "duration": 0.00674,
     "end_time": "2023-11-04T05:39:07.971037",
     "exception": false,
     "start_time": "2023-11-04T05:39:07.964297",
     "status": "completed"
    },
    "tags": []
   },
   "source": [
    "Vous choisissez ici ce que vous fournissez aux fonctions précédemment implémentées.\n",
    "\n",
    "L'utilisation de `rolling()` ([documentation](https://pandas.pydata.org/docs/reference/api/pandas.DataFrame.rolling.html)) est pratiquement obligatoire pour éviter d'incorporer les données futures dans votre système.\n",
    "\n",
    "Si vous ne respectez pas l'intervalle `2000-01-01`-`2015-01-01` votre solution ne sera pas acceptée. "
   ]
  },
  {
   "cell_type": "code",
   "execution_count": 7,
   "id": "9d653140",
   "metadata": {
    "execution": {
     "iopub.execute_input": "2023-11-04T05:39:07.989573Z",
     "iopub.status.busy": "2023-11-04T05:39:07.988867Z",
     "iopub.status.idle": "2023-11-04T06:02:07.426936Z",
     "shell.execute_reply": "2023-11-04T06:02:07.425153Z"
    },
    "papermill": {
     "duration": 1379.451782,
     "end_time": "2023-11-04T06:02:07.429701",
     "exception": false,
     "start_time": "2023-11-04T05:39:07.977919",
     "status": "completed"
    },
    "tags": []
   },
   "outputs": [
    {
     "name": "stderr",
     "output_type": "stream",
     "text": [
      "3816it [22:59,  2.77it/s]\n"
     ]
    }
   ],
   "source": [
    "# This cell might be running for longer than the others, \n",
    "# try to reduce the makespan or the complexity of your computations for speeding it up\n",
    "# Keep in mind that a year on the stock market is 252 days\n",
    "weights_df = []\n",
    "index = []\n",
    "adjusted_close=adjusted_close.sort_index()\n",
    "rolling_start = pd.to_datetime('1999-01-01') # Observation period starts maximum 1 year before the strategy starts (trailing_window_size<=252)\n",
    "start,stop = pd.to_datetime('2000-01-01'),pd.to_datetime('2015-01-01')\n",
    "\n",
    "trailing_window_size = 30\n",
    "stock_prices = adjusted_close[(adjusted_close.index>=pd.to_datetime(rolling_start))&(adjusted_close.index<pd.to_datetime(stop))]\n",
    "\n",
    "for x in tqdm(stock_prices.rolling(trailing_window_size)):\n",
    "\n",
    "    # If the trailing window is the right size and the current date is after the start date\n",
    "    if len(x)==trailing_window_size and x.index.max()>=start:\n",
    "\n",
    "        index.append(x.index.max())\n",
    "        weights = rand_weights(polynomial_regression(x))\n",
    "        \n",
    "        # The following line checks that you do not invest in unavailable positions\n",
    "        assert (weights.values[np.where(x.iloc[-1].isna())]!=0.0).sum()==0\n",
    "        \n",
    "        weights_df.append(weights)\n"
   ]
  },
  {
   "cell_type": "markdown",
   "id": "7cbfdf69",
   "metadata": {
    "papermill": {
     "duration": 0.212723,
     "end_time": "2023-11-04T06:02:07.858313",
     "exception": false,
     "start_time": "2023-11-04T06:02:07.645590",
     "status": "completed"
    },
    "tags": []
   },
   "source": [
    "#### Génération de la soumission avec le format requis. \n",
    "**Assurez vous de bien trier les dates et d'ajouter une colonne `id`.**"
   ]
  },
  {
   "cell_type": "code",
   "execution_count": 8,
   "id": "040d4560",
   "metadata": {
    "execution": {
     "iopub.execute_input": "2023-11-04T06:02:08.346040Z",
     "iopub.status.busy": "2023-11-04T06:02:08.345693Z",
     "iopub.status.idle": "2023-11-04T06:02:10.105320Z",
     "shell.execute_reply": "2023-11-04T06:02:10.103650Z"
    },
    "papermill": {
     "duration": 2.036101,
     "end_time": "2023-11-04T06:02:10.108260",
     "exception": false,
     "start_time": "2023-11-04T06:02:08.072159",
     "status": "completed"
    },
    "tags": []
   },
   "outputs": [],
   "source": [
    "weights_df = pd.DataFrame(weights_df,index=index)\n",
    "weights_df[weights_df.index>=start].sort_index().reset_index(names='date').to_csv('submission.csv',index_label='id')\n"
   ]
  },
  {
   "cell_type": "markdown",
   "id": "0781d403",
   "metadata": {
    "papermill": {
     "duration": 0.213369,
     "end_time": "2023-11-04T06:02:10.542800",
     "exception": false,
     "start_time": "2023-11-04T06:02:10.329431",
     "status": "completed"
    },
    "tags": []
   },
   "source": [
    "## Evaluation"
   ]
  },
  {
   "cell_type": "markdown",
   "id": "4fe8c845",
   "metadata": {
    "papermill": {
     "duration": 0.216603,
     "end_time": "2023-11-04T06:02:10.974476",
     "exception": false,
     "start_time": "2023-11-04T06:02:10.757873",
     "status": "completed"
    },
    "tags": []
   },
   "source": [
    "#### Les cellules qui suivent doivent impérativement figurer et être fonctionnelles dans le notebook que vous fournirez sous peine de disqualification."
   ]
  },
  {
   "cell_type": "code",
   "execution_count": 9,
   "id": "af30c9a2",
   "metadata": {
    "execution": {
     "iopub.execute_input": "2023-11-04T06:02:11.406701Z",
     "iopub.status.busy": "2023-11-04T06:02:11.406060Z",
     "iopub.status.idle": "2023-11-04T06:02:11.562622Z",
     "shell.execute_reply": "2023-11-04T06:02:11.561431Z"
    },
    "papermill": {
     "duration": 0.374966,
     "end_time": "2023-11-04T06:02:11.565255",
     "exception": false,
     "start_time": "2023-11-04T06:02:11.190289",
     "status": "completed"
    },
    "tags": []
   },
   "outputs": [],
   "source": [
    "weights_df = pd.read_csv('submission.csv',index_col=1)\n",
    "weights_df.drop(columns=['id'],inplace=True)\n",
    "weights_df.index = pd.to_datetime(weights_df.index)\n",
    "prices_df = adjusted_close.loc[weights_df.index]\n",
    "returns_df = prices_df.shift(-1)/prices_df\n"
   ]
  },
  {
   "cell_type": "markdown",
   "id": "4b5c329a",
   "metadata": {
    "papermill": {
     "duration": 0.2814,
     "end_time": "2023-11-04T06:02:12.063622",
     "exception": false,
     "start_time": "2023-11-04T06:02:11.782222",
     "status": "completed"
    },
    "tags": []
   },
   "source": [
    "### Graphes"
   ]
  },
  {
   "cell_type": "code",
   "execution_count": 10,
   "id": "74c95e95",
   "metadata": {
    "execution": {
     "iopub.execute_input": "2023-11-04T06:02:12.500535Z",
     "iopub.status.busy": "2023-11-04T06:02:12.499965Z",
     "iopub.status.idle": "2023-11-04T06:02:12.524895Z",
     "shell.execute_reply": "2023-11-04T06:02:12.523745Z"
    },
    "papermill": {
     "duration": 0.245458,
     "end_time": "2023-11-04T06:02:12.527326",
     "exception": false,
     "start_time": "2023-11-04T06:02:12.281868",
     "status": "completed"
    },
    "tags": []
   },
   "outputs": [],
   "source": [
    "bmrk = pd.read_csv(ROOT+'series/benchmark/benchmark_returns.csv',index_col=0)\n",
    "bmrk.index = pd.to_datetime(bmrk.index)\n"
   ]
  },
  {
   "cell_type": "code",
   "execution_count": 11,
   "id": "d0d107d3",
   "metadata": {
    "execution": {
     "iopub.execute_input": "2023-11-04T06:02:12.965712Z",
     "iopub.status.busy": "2023-11-04T06:02:12.965178Z",
     "iopub.status.idle": "2023-11-04T06:02:13.402546Z",
     "shell.execute_reply": "2023-11-04T06:02:13.400857Z"
    },
    "papermill": {
     "duration": 0.658745,
     "end_time": "2023-11-04T06:02:13.404974",
     "exception": false,
     "start_time": "2023-11-04T06:02:12.746229",
     "status": "completed"
    },
    "tags": []
   },
   "outputs": [
    {
     "data": {
      "image/png": "[encoded data removed]",
      "text/plain": [
       "<Figure size 1200x300 with 1 Axes>"
      ]
     },
     "metadata": {},
     "output_type": "display_data"
    }
   ],
   "source": [
    "portfolio_performance = pd.DataFrame(pd.DataFrame(returns_df.values*weights_df.values, columns=weights_df.columns, index=weights_df.index).sum(axis=1),columns=['portfolio_return'])[:-2]\n",
    "daily_returns = portfolio_performance.merge(bmrk,left_index=True,right_index=True,how='left')-1\n",
    "cumulative_returns = ((daily_returns+1).cumprod()-1)\n",
    "cumulative_returns.plot(figsize=(12,3))\n",
    "plt.grid()\n"
   ]
  },
  {
   "cell_type": "code",
   "execution_count": 12,
   "id": "2630382e",
   "metadata": {
    "execution": {
     "iopub.execute_input": "2023-11-04T06:02:13.840693Z",
     "iopub.status.busy": "2023-11-04T06:02:13.840348Z",
     "iopub.status.idle": "2023-11-04T06:02:14.197548Z",
     "shell.execute_reply": "2023-11-04T06:02:14.196470Z"
    },
    "papermill": {
     "duration": 0.576865,
     "end_time": "2023-11-04T06:02:14.199459",
     "exception": false,
     "start_time": "2023-11-04T06:02:13.622594",
     "status": "completed"
    },
    "tags": []
   },
   "outputs": [
    {
     "data": {
      "image/png": "[encoded data removed]",
      "text/plain": [
       "<Figure size 1200x300 with 1 Axes>"
      ]
     },
     "metadata": {},
     "output_type": "display_data"
    }
   ],
   "source": [
    "(cumulative_returns['portfolio_return']-cumulative_returns['benchmark_return']).plot(figsize=(12,3),label='excess return',color='r',legend=True)\n",
    "plt.title('Excess return of the strategy')\n",
    "plt.grid()\n"
   ]
  },
  {
   "cell_type": "code",
   "execution_count": 13,
   "id": "eae1c329",
   "metadata": {
    "execution": {
     "iopub.execute_input": "2023-11-04T06:02:14.639277Z",
     "iopub.status.busy": "2023-11-04T06:02:14.638873Z",
     "iopub.status.idle": "2023-11-04T06:02:15.114766Z",
     "shell.execute_reply": "2023-11-04T06:02:15.113561Z"
    },
    "papermill": {
     "duration": 0.703673,
     "end_time": "2023-11-04T06:02:15.117091",
     "exception": false,
     "start_time": "2023-11-04T06:02:14.413418",
     "status": "completed"
    },
    "tags": []
   },
   "outputs": [
    {
     "data": {
      "image/png": "[encoded data removed]",
      "text/plain": [
       "<Figure size 1200x300 with 1 Axes>"
      ]
     },
     "metadata": {},
     "output_type": "display_data"
    }
   ],
   "source": [
    "daily_returns.plot(figsize=(12,3))\n",
    "plt.grid()\n"
   ]
  },
  {
   "cell_type": "markdown",
   "id": "cd64fc46",
   "metadata": {
    "papermill": {
     "duration": 0.213978,
     "end_time": "2023-11-04T06:02:15.608976",
     "exception": false,
     "start_time": "2023-11-04T06:02:15.394998",
     "status": "completed"
    },
    "tags": []
   },
   "source": [
    "### Valeur ajoutée annualisée"
   ]
  },
  {
   "cell_type": "code",
   "execution_count": 14,
   "id": "70bccf72",
   "metadata": {
    "execution": {
     "iopub.execute_input": "2023-11-04T06:02:16.046795Z",
     "iopub.status.busy": "2023-11-04T06:02:16.046444Z",
     "iopub.status.idle": "2023-11-04T06:02:16.056652Z",
     "shell.execute_reply": "2023-11-04T06:02:16.054838Z"
    },
    "papermill": {
     "duration": 0.232761,
     "end_time": "2023-11-04T06:02:16.059330",
     "exception": false,
     "start_time": "2023-11-04T06:02:15.826569",
     "status": "completed"
    },
    "tags": []
   },
   "outputs": [
    {
     "data": {
      "text/plain": [
       "0.0014798042416341861"
      ]
     },
     "execution_count": 14,
     "metadata": {},
     "output_type": "execute_result"
    }
   ],
   "source": [
    "annualized_return = (1+daily_returns).prod()**(252/len(daily_returns))-1\n",
    "added_value_annualized = annualized_return['portfolio_return']-annualized_return['benchmark_return']\n",
    "added_value_annualized\n"
   ]
  },
  {
   "cell_type": "markdown",
   "id": "058bafe8",
   "metadata": {
    "papermill": {
     "duration": 0.217525,
     "end_time": "2023-11-04T06:02:16.495238",
     "exception": false,
     "start_time": "2023-11-04T06:02:16.277713",
     "status": "completed"
    },
    "tags": []
   },
   "source": [
    "### Risque actif annualisé"
   ]
  },
  {
   "cell_type": "code",
   "execution_count": 15,
   "id": "029da41b",
   "metadata": {
    "execution": {
     "iopub.execute_input": "2023-11-04T06:02:16.933908Z",
     "iopub.status.busy": "2023-11-04T06:02:16.933320Z",
     "iopub.status.idle": "2023-11-04T06:02:16.940343Z",
     "shell.execute_reply": "2023-11-04T06:02:16.939474Z"
    },
    "papermill": {
     "duration": 0.226984,
     "end_time": "2023-11-04T06:02:16.942432",
     "exception": false,
     "start_time": "2023-11-04T06:02:16.715448",
     "status": "completed"
    },
    "tags": []
   },
   "outputs": [
    {
     "data": {
      "text/plain": [
       "0.029450623812174163"
      ]
     },
     "execution_count": 15,
     "metadata": {},
     "output_type": "execute_result"
    }
   ],
   "source": [
    "excess_return = daily_returns['portfolio_return']-daily_returns['benchmark_return']\n",
    "active_risk_annualized = excess_return.std()*np.sqrt(252)\n",
    "active_risk_annualized\n"
   ]
  },
  {
   "cell_type": "markdown",
   "id": "5128a4a7",
   "metadata": {
    "papermill": {
     "duration": 0.280012,
     "end_time": "2023-11-04T06:02:17.441234",
     "exception": false,
     "start_time": "2023-11-04T06:02:17.161222",
     "status": "completed"
    },
    "tags": []
   },
   "source": [
    "### Ratio d'information annualisé\n",
    "C'est cette métrique qui est utilisée sur Kaggle"
   ]
  },
  {
   "cell_type": "code",
   "execution_count": 16,
   "id": "bb8a578e",
   "metadata": {
    "execution": {
     "iopub.execute_input": "2023-11-04T06:02:17.881699Z",
     "iopub.status.busy": "2023-11-04T06:02:17.881288Z",
     "iopub.status.idle": "2023-11-04T06:02:17.886395Z",
     "shell.execute_reply": "2023-11-04T06:02:17.885732Z"
    },
    "papermill": {
     "duration": 0.226552,
     "end_time": "2023-11-04T06:02:17.889080",
     "exception": false,
     "start_time": "2023-11-04T06:02:17.662528",
     "status": "completed"
    },
    "tags": []
   },
   "outputs": [
    {
     "data": {
      "text/plain": [
       "0.050246957452306035"
      ]
     },
     "execution_count": 16,
     "metadata": {},
     "output_type": "execute_result"
    }
   ],
   "source": [
    "information_ratio_annualized = added_value_annualized/active_risk_annualized\n",
    "information_ratio_annualized\n"
   ]
  },
  {
   "cell_type": "markdown",
   "id": "abe88648",
   "metadata": {
    "papermill": {
     "duration": 0.217668,
     "end_time": "2023-11-04T06:02:18.323881",
     "exception": false,
     "start_time": "2023-11-04T06:02:18.106213",
     "status": "completed"
    },
    "tags": []
   },
   "source": [
    "### Pire rabattement relatif"
   ]
  },
  {
   "cell_type": "code",
   "execution_count": 17,
   "id": "ec085bc9",
   "metadata": {
    "execution": {
     "iopub.execute_input": "2023-11-04T06:02:18.758794Z",
     "iopub.status.busy": "2023-11-04T06:02:18.758382Z",
     "iopub.status.idle": "2023-11-04T06:02:18.766241Z",
     "shell.execute_reply": "2023-11-04T06:02:18.765315Z"
    },
    "papermill": {
     "duration": 0.228933,
     "end_time": "2023-11-04T06:02:18.768162",
     "exception": false,
     "start_time": "2023-11-04T06:02:18.539229",
     "status": "completed"
    },
    "tags": []
   },
   "outputs": [
    {
     "data": {
      "text/plain": [
       "0.8117841433087025"
      ]
     },
     "execution_count": 17,
     "metadata": {},
     "output_type": "execute_result"
    }
   ],
   "source": [
    "max_seen_so_far = cumulative_returns.cummax()\n",
    "drawdown = (cumulative_returns-max_seen_so_far)/max_seen_so_far\n",
    "worst_drawdown = drawdown.min()\n",
    "relative_worst_drawdown = worst_drawdown['portfolio_return']-worst_drawdown['benchmark_return']\n",
    "relative_worst_drawdown\n"
   ]
  },
  {
   "cell_type": "markdown",
   "id": "1c040f18",
   "metadata": {
    "papermill": {
     "duration": 0.279533,
     "end_time": "2023-11-04T06:02:19.264531",
     "exception": false,
     "start_time": "2023-11-04T06:02:18.984998",
     "status": "completed"
    },
    "tags": []
   },
   "source": [
    "### Nombre de titres moyens"
   ]
  },
  {
   "cell_type": "code",
   "execution_count": 18,
   "id": "07f73b6f",
   "metadata": {
    "execution": {
     "iopub.execute_input": "2023-11-04T06:02:19.701754Z",
     "iopub.status.busy": "2023-11-04T06:02:19.700538Z",
     "iopub.status.idle": "2023-11-04T06:02:19.711421Z",
     "shell.execute_reply": "2023-11-04T06:02:19.710694Z"
    },
    "papermill": {
     "duration": 0.232148,
     "end_time": "2023-11-04T06:02:19.713140",
     "exception": false,
     "start_time": "2023-11-04T06:02:19.480992",
     "status": "completed"
    },
    "tags": []
   },
   "outputs": [
    {
     "data": {
      "text/plain": [
       "125.0"
      ]
     },
     "execution_count": 18,
     "metadata": {},
     "output_type": "execute_result"
    }
   ],
   "source": [
    "average_number_of_stocks = (weights_df>0).sum(axis=1).mean()\n",
    "average_number_of_stocks\n"
   ]
  },
  {
   "cell_type": "markdown",
   "id": "b492bf89",
   "metadata": {
    "papermill": {
     "duration": 0.245176,
     "end_time": "2023-11-04T06:02:20.178026",
     "exception": false,
     "start_time": "2023-11-04T06:02:19.932850",
     "status": "completed"
    },
    "tags": []
   },
   "source": [
    "### Taux de roulement annuel"
   ]
  },
  {
   "cell_type": "code",
   "execution_count": 19,
   "id": "0f71eb32",
   "metadata": {
    "execution": {
     "iopub.execute_input": "2023-11-04T06:02:20.639008Z",
     "iopub.status.busy": "2023-11-04T06:02:20.638689Z",
     "iopub.status.idle": "2023-11-04T06:02:20.656996Z",
     "shell.execute_reply": "2023-11-04T06:02:20.655972Z"
    },
    "papermill": {
     "duration": 0.250742,
     "end_time": "2023-11-04T06:02:20.659743",
     "exception": false,
     "start_time": "2023-11-04T06:02:20.409001",
     "status": "completed"
    },
    "tags": []
   },
   "outputs": [
    {
     "data": {
      "text/plain": [
       "179.571061969432"
      ]
     },
     "execution_count": 19,
     "metadata": {},
     "output_type": "execute_result"
    }
   ],
   "source": [
    "turnover_annual = (weights_df.diff().abs().sum(axis=1)/2).mean()*252\n",
    "turnover_annual\n"
   ]
  },
  {
   "cell_type": "markdown",
   "id": "fe98a9d0",
   "metadata": {
    "papermill": {
     "duration": 0.219518,
     "end_time": "2023-11-04T06:02:21.098629",
     "exception": false,
     "start_time": "2023-11-04T06:02:20.879111",
     "status": "completed"
    },
    "tags": []
   },
   "source": [
    "## Sanity check\n",
    "Ces cellules vous permettent de voir si votre solution est conforme aux contraintes mentionnées dans l'énoncé ci-dessus."
   ]
  },
  {
   "cell_type": "code",
   "execution_count": 20,
   "id": "764fddca",
   "metadata": {
    "execution": {
     "iopub.execute_input": "2023-11-04T06:02:21.602129Z",
     "iopub.status.busy": "2023-11-04T06:02:21.601777Z",
     "iopub.status.idle": "2023-11-04T06:02:22.355891Z",
     "shell.execute_reply": "2023-11-04T06:02:22.354887Z"
    },
    "papermill": {
     "duration": 0.9778,
     "end_time": "2023-11-04T06:02:22.358429",
     "exception": false,
     "start_time": "2023-11-04T06:02:21.380629",
     "status": "completed"
    },
    "tags": []
   },
   "outputs": [],
   "source": [
    "for i,x in enumerate(weights_df.values):\n",
    "\n",
    "    # Checks you respect the long-only and the cardinality constraint \n",
    "    n_positions = sum(x>.0000001)\n",
    "    assert n_positions==0 or n_positions>=120\n",
    "\n",
    "    # Checks you do not invest in non existing stocks\n",
    "    assert (x[np.where(adjusted_close.loc[weights_df.index[i]].isna())]!=0.0).sum()==0\n",
    "        "
   ]
  }
 ],
 "metadata": {
  "kernelspec": {
   "display_name": "Python 3",
   "language": "python",
   "name": "python3"
  },
  "language_info": {
   "codemirror_mode": {
    "name": "ipython",
    "version": 3
   },
   "file_extension": ".py",
   "mimetype": "text/x-python",
   "name": "python",
   "nbconvert_exporter": "python",
   "pygments_lexer": "ipython3",
   "version": "3.10.12"
  },
  "papermill": {
   "default_parameters": {},
   "duration": 1402.272447,
   "end_time": "2023-11-04T06:02:23.199809",
   "environment_variables": {},
   "exception": null,
   "input_path": "__notebook__.ipynb",
   "output_path": "__notebook__.ipynb",
   "parameters": {},
   "start_time": "2023-11-04T05:39:00.927362",
   "version": "2.4.0"
  }
 },
 "nbformat": 4,
 "nbformat_minor": 5
}
